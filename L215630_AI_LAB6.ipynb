{
 "cells": [
  {
   "cell_type": "code",
   "execution_count": 4,
   "metadata": {},
   "outputs": [],
   "source": [
    "def Adjan(graph,frompoint,topoint):\n",
    "    graph[frompoint].append(topoint)\n",
    "    return graph"
   ]
  },
  {
   "cell_type": "code",
   "execution_count": 5,
   "metadata": {},
   "outputs": [],
   "source": [
    "from collections import deque\n",
    "\n",
    "def bfs(graph, start, goal):\n",
    "    visited = set()\n",
    "    queue = deque([[start]])  \n",
    "\n",
    "    while queue:\n",
    "        path = queue.popleft()\n",
    "        node = path[-1]\n",
    "\n",
    "        if node == goal: \n",
    "            return path\n",
    "\n",
    "        if node not in visited:\n",
    "            for adjacent in graph[node]:\n",
    "                new_path = list(path)  \n",
    "                new_path.append(adjacent)\n",
    "                queue.append(new_path)  \n",
    "            visited.add(node) \n",
    "\n",
    "    return None "
   ]
  },
  {
   "cell_type": "code",
   "execution_count": 6,
   "metadata": {},
   "outputs": [
    {
     "name": "stdout",
     "output_type": "stream",
     "text": [
      "Path from 1 to 7: [1, 3, 7]\n"
     ]
    }
   ],
   "source": [
    "graphlist = [[],[1],[2],[3],[4],[5],[6],[7]]\n",
    "graphlist = Adjan(graphlist,1,3)\n",
    "graphlist = Adjan(graphlist,2,3)\n",
    "graphlist = Adjan(graphlist,2,5)\n",
    "graphlist = Adjan(graphlist,3,1)\n",
    "graphlist = Adjan(graphlist,3,2)\n",
    "graphlist = Adjan(graphlist,3,4)\n",
    "graphlist = Adjan(graphlist,3,7)\n",
    "graphlist = Adjan(graphlist,4,3)\n",
    "graphlist = Adjan(graphlist,5,2)\n",
    "graphlist = Adjan(graphlist,5,6)\n",
    "graphlist = Adjan(graphlist,6,5)\n",
    "graphlist = Adjan(graphlist,6,7)\n",
    "graphlist = Adjan(graphlist,7,3)\n",
    "graphlist = Adjan(graphlist,7,6)\n",
    "\n",
    "path = bfs(graphlist, 1, 7)\n",
    "\n",
    "if path:\n",
    "    print(\"Path from 1 to 7:\", path)\n",
    "else:\n",
    "    print(\"No path found from 1 to 7.\")"
   ]
  },
  {
   "cell_type": "code",
   "execution_count": null,
   "metadata": {},
   "outputs": [],
   "source": []
  }
 ],
 "metadata": {
  "kernelspec": {
   "display_name": "Python 3",
   "language": "python",
   "name": "python3"
  },
  "language_info": {
   "codemirror_mode": {
    "name": "ipython",
    "version": 3
   },
   "file_extension": ".py",
   "mimetype": "text/x-python",
   "name": "python",
   "nbconvert_exporter": "python",
   "pygments_lexer": "ipython3",
   "version": "3.11.4"
  }
 },
 "nbformat": 4,
 "nbformat_minor": 2
}
