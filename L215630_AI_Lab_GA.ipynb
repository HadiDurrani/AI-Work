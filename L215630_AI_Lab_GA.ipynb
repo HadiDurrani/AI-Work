{
  "nbformat": 4,
  "nbformat_minor": 0,
  "metadata": {
    "colab": {
      "provenance": []
    },
    "kernelspec": {
      "name": "python3",
      "display_name": "Python 3"
    },
    "language_info": {
      "name": "python"
    }
  },
  "cells": [
    {
      "cell_type": "code",
      "execution_count": null,
      "metadata": {
        "id": "ZeUGSaRGsbIp"
      },
      "outputs": [],
      "source": [
        "data = {'item': [1,2,3,4,5,6,7,8,9,10],\n",
        "        'weight': [3,13,10,9,7,1,8,8,2,9],\n",
        "        'value': [266,442,671,526,388,245,210,145,126,322]}"
      ]
    },
    {
      "cell_type": "code",
      "source": [
        "import pandas as pd\n",
        "import numpy as np\n",
        "import random\n",
        "\n",
        "data = pd.DataFrame(data)\n",
        "data['value'][9]"
      ],
      "metadata": {
        "colab": {
          "base_uri": "https://localhost:8080/"
        },
        "id": "pHEqgDqZtsch",
        "outputId": "fe86a1d4-ddd2-430f-ab1c-3f3f49a8f3b6"
      },
      "execution_count": null,
      "outputs": [
        {
          "output_type": "execute_result",
          "data": {
            "text/plain": [
              "322"
            ]
          },
          "metadata": {},
          "execution_count": 14
        }
      ]
    },
    {
      "cell_type": "code",
      "source": [
        "init_pop = [[0, 1, 0, 1, 1, 0, 0, 1, 1, 1],[1, 1, 1, 1, 0, 1, 1, 1, 0, 0],[0, 1, 0, 0, 0, 0, 1, 1, 0, 1],[0, 0, 1, 0, 1, 1, 0, 0, 0, 0],[0, 0, 1, 1, 0, 0, 0, 0, 0, 1],[0, 1, 0, 1, 1, 0, 1, 0, 0, 0],[1, 1, 1, 0, 0, 0, 1, 0, 1, 0],[0, 0, 0, 0, 1, 1, 1, 0, 0, 0]]\n"
      ],
      "metadata": {
        "id": "Ib3VkSttttNl"
      },
      "execution_count": null,
      "outputs": []
    },
    {
      "cell_type": "code",
      "source": [
        "def fitness(chromosome, data):\n",
        "    total_weight = sum(chromosome[i] * data['weight'][i] for i in range(len(chromosome)))\n",
        "    total_value = sum(chromosome[i] * data['value'][i] for i in range(len(chromosome)))\n",
        "    return total_value if total_weight <= 35 else 0"
      ],
      "metadata": {
        "id": "SdPn0hNqUVFn"
      },
      "execution_count": null,
      "outputs": []
    },
    {
      "cell_type": "code",
      "source": [
        "def crossover(parent1, parent2):\n",
        "    crossover_point1 = random.randint(0, len(parent1) - 1)\n",
        "    crossover_point2 = random.randint(crossover_point1 + 1, len(parent1))\n",
        "    child1 = parent1[:crossover_point1] + parent2[crossover_point1:crossover_point2] + parent1[crossover_point2:]\n",
        "    child2 = parent2[:crossover_point1] + parent1[crossover_point1:crossover_point2] + parent2[crossover_point2:]\n",
        "    return child1, child2\n"
      ],
      "metadata": {
        "id": "h_hZWvHrT4E9"
      },
      "execution_count": null,
      "outputs": []
    },
    {
      "cell_type": "code",
      "source": [
        "def mutate(child):\n",
        "    mutation_points = random.sample(range(len(child)), 2)\n",
        "    for point in mutation_points:\n",
        "        child[point] = 1 - child[point]\n",
        "    return child"
      ],
      "metadata": {
        "id": "o1v_XvLU-eB4"
      },
      "execution_count": null,
      "outputs": []
    },
    {
      "cell_type": "code",
      "source": [
        "def generate_new_population(population, data):\n",
        "    new_population = []\n",
        "    population = sorted(population, key=lambda x: fitness(x, data), reverse=True)[:4]\n",
        "\n",
        "    new_population.extend(population)\n",
        "\n",
        "    while len(new_population) < 8:\n",
        "        parent1, parent2 = random.choices(population, k=2)\n",
        "        offspring1, offspring2 = crossover(parent1, parent2)\n",
        "        offspring1 = mutate(offspring1)\n",
        "        offspring2 = mutate(offspring2)\n",
        "        new_population.extend([offspring1, offspring2])\n",
        "\n",
        "    return new_population"
      ],
      "metadata": {
        "id": "2Lmr1AIHUPak"
      },
      "execution_count": null,
      "outputs": []
    },
    {
      "cell_type": "code",
      "source": [
        "def genetic_algorithm(data, iterations=20):\n",
        "    population = init_pop\n",
        "\n",
        "    for _ in range(iterations):\n",
        "        population = generate_new_population(population, data)\n",
        "\n",
        "    best_chromosome = max(population, key=lambda x: fitness(x, data))\n",
        "\n",
        "    return best_chromosome\n",
        "\n",
        "best_solution = genetic_algorithm(data)\n",
        "print(\"Best solution:\", best_solution)"
      ],
      "metadata": {
        "colab": {
          "base_uri": "https://localhost:8080/"
        },
        "id": "CjpCRTYsUTQu",
        "outputId": "ea6ef4ba-f2ec-45db-c04f-696f742cc1e9"
      },
      "execution_count": null,
      "outputs": [
        {
          "output_type": "stream",
          "name": "stdout",
          "text": [
            "Best solution: [1, 0, 1, 1, 0, 1, 0, 1, 1, 0]\n"
          ]
        }
      ]
    },
    {
      "cell_type": "code",
      "source": [],
      "metadata": {
        "id": "kPSboTrBUbGT"
      },
      "execution_count": null,
      "outputs": []
    }
  ]
}