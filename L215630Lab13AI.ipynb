{
 "cells": [
  {
   "cell_type": "code",
   "execution_count": 1,
   "metadata": {},
   "outputs": [],
   "source": [
    "#Gender, Age, Annual Income and Spending Score"
   ]
  },
  {
   "cell_type": "code",
   "execution_count": 2,
   "metadata": {},
   "outputs": [
    {
     "data": {
      "text/html": [
       "<div>\n",
       "<style scoped>\n",
       "    .dataframe tbody tr th:only-of-type {\n",
       "        vertical-align: middle;\n",
       "    }\n",
       "\n",
       "    .dataframe tbody tr th {\n",
       "        vertical-align: top;\n",
       "    }\n",
       "\n",
       "    .dataframe thead th {\n",
       "        text-align: right;\n",
       "    }\n",
       "</style>\n",
       "<table border=\"1\" class=\"dataframe\">\n",
       "  <thead>\n",
       "    <tr style=\"text-align: right;\">\n",
       "      <th></th>\n",
       "      <th>CustomerID</th>\n",
       "      <th>Gender</th>\n",
       "      <th>Age</th>\n",
       "      <th>Annual Income (k$)</th>\n",
       "      <th>Spending Score (1-100)</th>\n",
       "    </tr>\n",
       "  </thead>\n",
       "  <tbody>\n",
       "    <tr>\n",
       "      <th>0</th>\n",
       "      <td>1</td>\n",
       "      <td>Male</td>\n",
       "      <td>19.0</td>\n",
       "      <td>15.0</td>\n",
       "      <td>39</td>\n",
       "    </tr>\n",
       "    <tr>\n",
       "      <th>1</th>\n",
       "      <td>2</td>\n",
       "      <td>Male</td>\n",
       "      <td>21.0</td>\n",
       "      <td>15.0</td>\n",
       "      <td>81</td>\n",
       "    </tr>\n",
       "    <tr>\n",
       "      <th>2</th>\n",
       "      <td>3</td>\n",
       "      <td>Female</td>\n",
       "      <td>20.0</td>\n",
       "      <td>16.0</td>\n",
       "      <td>6</td>\n",
       "    </tr>\n",
       "    <tr>\n",
       "      <th>3</th>\n",
       "      <td>4</td>\n",
       "      <td>Female</td>\n",
       "      <td>23.0</td>\n",
       "      <td>16.0</td>\n",
       "      <td>77</td>\n",
       "    </tr>\n",
       "    <tr>\n",
       "      <th>4</th>\n",
       "      <td>5</td>\n",
       "      <td>Female</td>\n",
       "      <td>31.0</td>\n",
       "      <td>17.0</td>\n",
       "      <td>40</td>\n",
       "    </tr>\n",
       "    <tr>\n",
       "      <th>...</th>\n",
       "      <td>...</td>\n",
       "      <td>...</td>\n",
       "      <td>...</td>\n",
       "      <td>...</td>\n",
       "      <td>...</td>\n",
       "    </tr>\n",
       "    <tr>\n",
       "      <th>198</th>\n",
       "      <td>199</td>\n",
       "      <td>Male</td>\n",
       "      <td>32.0</td>\n",
       "      <td>137.0</td>\n",
       "      <td>18</td>\n",
       "    </tr>\n",
       "    <tr>\n",
       "      <th>199</th>\n",
       "      <td>200</td>\n",
       "      <td>Male</td>\n",
       "      <td>30.0</td>\n",
       "      <td>137.0</td>\n",
       "      <td>83</td>\n",
       "    </tr>\n",
       "    <tr>\n",
       "      <th>200</th>\n",
       "      <td>201</td>\n",
       "      <td>Female</td>\n",
       "      <td>27.0</td>\n",
       "      <td>NaN</td>\n",
       "      <td>28</td>\n",
       "    </tr>\n",
       "    <tr>\n",
       "      <th>201</th>\n",
       "      <td>202</td>\n",
       "      <td>Male</td>\n",
       "      <td>NaN</td>\n",
       "      <td>137.0</td>\n",
       "      <td>19</td>\n",
       "    </tr>\n",
       "    <tr>\n",
       "      <th>202</th>\n",
       "      <td>203</td>\n",
       "      <td>NaN</td>\n",
       "      <td>30.0</td>\n",
       "      <td>137.0</td>\n",
       "      <td>83</td>\n",
       "    </tr>\n",
       "  </tbody>\n",
       "</table>\n",
       "<p>203 rows × 5 columns</p>\n",
       "</div>"
      ],
      "text/plain": [
       "     CustomerID  Gender   Age  Annual Income (k$)  Spending Score (1-100)\n",
       "0             1    Male  19.0                15.0                      39\n",
       "1             2    Male  21.0                15.0                      81\n",
       "2             3  Female  20.0                16.0                       6\n",
       "3             4  Female  23.0                16.0                      77\n",
       "4             5  Female  31.0                17.0                      40\n",
       "..          ...     ...   ...                 ...                     ...\n",
       "198         199    Male  32.0               137.0                      18\n",
       "199         200    Male  30.0               137.0                      83\n",
       "200         201  Female  27.0                 NaN                      28\n",
       "201         202    Male   NaN               137.0                      19\n",
       "202         203     NaN  30.0               137.0                      83\n",
       "\n",
       "[203 rows x 5 columns]"
      ]
     },
     "execution_count": 2,
     "metadata": {},
     "output_type": "execute_result"
    }
   ],
   "source": [
    "import pandas as pd\n",
    "import matplotlib.pyplot as plt\n",
    "from sklearn.cluster import KMeans\n",
    "from sklearn.preprocessing import StandardScaler\n",
    "from sklearn.cluster import KMeans\n",
    "\n",
    "df = pd.read_csv(\"Mall_Customers - Mall_Customers.csv\")\n",
    "df"
   ]
  },
  {
   "cell_type": "code",
   "execution_count": 3,
   "metadata": {},
   "outputs": [
    {
     "data": {
      "text/plain": [
       "CustomerID  Gender  Age    Annual Income (k$)  Spending Score (1-100)\n",
       "False       False   False  False               False                     200\n",
       "                           True                False                       1\n",
       "                    True   False               False                       1\n",
       "            True    False  False               False                       1\n",
       "Name: count, dtype: int64"
      ]
     },
     "execution_count": 3,
     "metadata": {},
     "output_type": "execute_result"
    }
   ],
   "source": [
    "df.isnull().value_counts()\n",
    "\n",
    "#3 null values one in Annual one in Age one in gender"
   ]
  },
  {
   "cell_type": "code",
   "execution_count": 4,
   "metadata": {},
   "outputs": [],
   "source": [
    "numerical_columns = ['Age', 'Annual Income (k$)', 'Spending Score (1-100)']\n",
    "for col in numerical_columns:\n",
    "    df[col].fillna(df[col].mean(), inplace=True)\n",
    "\n",
    "categorical_columns = ['CustomerID', 'Gender']\n",
    "for col in categorical_columns:\n",
    "    mode_val = df[col].mode()[0]\n",
    "    df[col].fillna(mode_val, inplace=True)\n"
   ]
  },
  {
   "cell_type": "code",
   "execution_count": 5,
   "metadata": {},
   "outputs": [
    {
     "data": {
      "image/png": "[encoded data removed]",
      "text/plain": [
       "<Figure size 640x480 with 1 Axes>"
      ]
     },
     "metadata": {},
     "output_type": "display_data"
    },
    {
     "name": "stdout",
     "output_type": "stream",
     "text": [
      "count    203.000000\n",
      "mean      38.747525\n",
      "std       13.903508\n",
      "min       18.000000\n",
      "25%       28.500000\n",
      "50%       36.000000\n",
      "75%       49.000000\n",
      "max       70.000000\n",
      "Name: Age, dtype: float64\n"
     ]
    }
   ],
   "source": [
    "plt.hist(df['Age'], bins=20, color='skyblue', edgecolor='black')\n",
    "plt.xlabel('Age')\n",
    "plt.ylabel('Frequency')\n",
    "plt.title('Distribution of Age')\n",
    "plt.show()\n",
    "\n",
    "age_stats = df['Age'].describe()\n",
    "print(age_stats)"
   ]
  },
  {
   "cell_type": "code",
   "execution_count": 6,
   "metadata": {},
   "outputs": [
    {
     "name": "stdout",
     "output_type": "stream",
     "text": [
      "The feature with the highest correlation with 'Spending Score (1-100)' is 'Annual Income (k$)' with a correlation coefficient of 0.010273914343130205.\n"
     ]
    }
   ],
   "source": [
    "numeric_df = df.select_dtypes(include=['number'])\n",
    "\n",
    "correlation_matrix = numeric_df.corr()\n",
    "\n",
    "spending_score_corr = correlation_matrix['Spending Score (1-100)']\n",
    "\n",
    "spending_score_corr = spending_score_corr.drop('Spending Score (1-100)')\n",
    "\n",
    "highest_corr_feature = spending_score_corr.idxmax()\n",
    "highest_corr_value = spending_score_corr.max()\n",
    "\n",
    "print(f\"The feature with the highest correlation with 'Spending Score (1-100)' is '{highest_corr_feature}' with a correlation coefficient of {highest_corr_value}.\")\n"
   ]
  },
  {
   "cell_type": "code",
   "execution_count": 7,
   "metadata": {},
   "outputs": [
    {
     "name": "stderr",
     "output_type": "stream",
     "text": [
      "C:\\Users\\DURRANI\\AppData\\Roaming\\Python\\Python311\\site-packages\\sklearn\\cluster\\_kmeans.py:1416: FutureWarning: The default value of `n_init` will change from 10 to 'auto' in 1.4. Set the value of `n_init` explicitly to suppress the warning\n",
      "  super()._check_params_vs_input(X, default_n_init=10)\n",
      "C:\\Users\\DURRANI\\AppData\\Roaming\\Python\\Python311\\site-packages\\sklearn\\cluster\\_kmeans.py:1416: FutureWarning: The default value of `n_init` will change from 10 to 'auto' in 1.4. Set the value of `n_init` explicitly to suppress the warning\n",
      "  super()._check_params_vs_input(X, default_n_init=10)\n",
      "C:\\Users\\DURRANI\\AppData\\Roaming\\Python\\Python311\\site-packages\\sklearn\\cluster\\_kmeans.py:1416: FutureWarning: The default value of `n_init` will change from 10 to 'auto' in 1.4. Set the value of `n_init` explicitly to suppress the warning\n",
      "  super()._check_params_vs_input(X, default_n_init=10)\n",
      "C:\\Users\\DURRANI\\AppData\\Roaming\\Python\\Python311\\site-packages\\sklearn\\cluster\\_kmeans.py:1416: FutureWarning: The default value of `n_init` will change from 10 to 'auto' in 1.4. Set the value of `n_init` explicitly to suppress the warning\n",
      "  super()._check_params_vs_input(X, default_n_init=10)\n",
      "C:\\Users\\DURRANI\\AppData\\Roaming\\Python\\Python311\\site-packages\\sklearn\\cluster\\_kmeans.py:1416: FutureWarning: The default value of `n_init` will change from 10 to 'auto' in 1.4. Set the value of `n_init` explicitly to suppress the warning\n",
      "  super()._check_params_vs_input(X, default_n_init=10)\n",
      "C:\\Users\\DURRANI\\AppData\\Roaming\\Python\\Python311\\site-packages\\sklearn\\cluster\\_kmeans.py:1416: FutureWarning: The default value of `n_init` will change from 10 to 'auto' in 1.4. Set the value of `n_init` explicitly to suppress the warning\n",
      "  super()._check_params_vs_input(X, default_n_init=10)\n",
      "C:\\Users\\DURRANI\\AppData\\Roaming\\Python\\Python311\\site-packages\\sklearn\\cluster\\_kmeans.py:1416: FutureWarning: The default value of `n_init` will change from 10 to 'auto' in 1.4. Set the value of `n_init` explicitly to suppress the warning\n",
      "  super()._check_params_vs_input(X, default_n_init=10)\n",
      "C:\\Users\\DURRANI\\AppData\\Roaming\\Python\\Python311\\site-packages\\sklearn\\cluster\\_kmeans.py:1416: FutureWarning: The default value of `n_init` will change from 10 to 'auto' in 1.4. Set the value of `n_init` explicitly to suppress the warning\n",
      "  super()._check_params_vs_input(X, default_n_init=10)\n",
      "C:\\Users\\DURRANI\\AppData\\Roaming\\Python\\Python311\\site-packages\\sklearn\\cluster\\_kmeans.py:1416: FutureWarning: The default value of `n_init` will change from 10 to 'auto' in 1.4. Set the value of `n_init` explicitly to suppress the warning\n",
      "  super()._check_params_vs_input(X, default_n_init=10)\n",
      "C:\\Users\\DURRANI\\AppData\\Roaming\\Python\\Python311\\site-packages\\sklearn\\cluster\\_kmeans.py:1416: FutureWarning: The default value of `n_init` will change from 10 to 'auto' in 1.4. Set the value of `n_init` explicitly to suppress the warning\n",
      "  super()._check_params_vs_input(X, default_n_init=10)\n"
     ]
    },
    {
     "data": {
      "image/png": "[encoded data removed]",
      "text/plain": [
       "<Figure size 640x480 with 1 Axes>"
      ]
     },
     "metadata": {},
     "output_type": "display_data"
    }
   ],
   "source": [
    "X = df[['Annual Income (k$)', 'Spending Score (1-100)']]\n",
    "\n",
    "scaler = StandardScaler()\n",
    "X_scaled = scaler.fit_transform(X)\n",
    "\n",
    "wcss = []\n",
    "for i in range(1, 11):\n",
    "    kmeans = KMeans(n_clusters=i, init='k-means++', random_state=42)\n",
    "    kmeans.fit(X_scaled)\n",
    "    wcss.append(kmeans.inertia_)\n",
    "\n",
    "plt.plot(range(1, 11), wcss, marker='o', linestyle='--')\n",
    "plt.title('Elbow Method')\n",
    "plt.xlabel('Number of Clusters')\n",
    "plt.ylabel('WCSS')\n",
    "plt.show()\n"
   ]
  },
  {
   "cell_type": "code",
   "execution_count": 8,
   "metadata": {},
   "outputs": [
    {
     "name": "stdout",
     "output_type": "stream",
     "text": [
      "The average annual income of customers in the dataset is $61.32k.\n"
     ]
    }
   ],
   "source": [
    "\n",
    "average_annual_income = df['Annual Income (k$)'].mean()\n",
    "\n",
    "print(f\"The average annual income of customers in the dataset is ${average_annual_income:.2f}k.\")\n"
   ]
  },
  {
   "cell_type": "code",
   "execution_count": 9,
   "metadata": {},
   "outputs": [
    {
     "name": "stdout",
     "output_type": "stream",
     "text": [
      "The average spending score of male customers in the dataset is 48.18.\n"
     ]
    }
   ],
   "source": [
    "\n",
    "male_customers = df[df['Gender'] == 'Male']\n",
    "\n",
    "average_spending_score_male = male_customers['Spending Score (1-100)'].mean()\n",
    "\n",
    "print(f\"The average spending score of male customers in the dataset is {average_spending_score_male:.2f}.\")\n"
   ]
  },
  {
   "cell_type": "code",
   "execution_count": 10,
   "metadata": {},
   "outputs": [
    {
     "name": "stdout",
     "output_type": "stream",
     "text": [
      "The cluster with the highest average income is Cluster 1.\n",
      "The cluster with the highest average spending score is Cluster 3.\n"
     ]
    },
    {
     "name": "stderr",
     "output_type": "stream",
     "text": [
      "C:\\Users\\DURRANI\\AppData\\Roaming\\Python\\Python311\\site-packages\\sklearn\\cluster\\_kmeans.py:1416: FutureWarning: The default value of `n_init` will change from 10 to 'auto' in 1.4. Set the value of `n_init` explicitly to suppress the warning\n",
      "  super()._check_params_vs_input(X, default_n_init=10)\n"
     ]
    }
   ],
   "source": [
    "\n",
    "\n",
    "\n",
    "kmeans = KMeans(n_clusters=5, random_state=42)\n",
    "clusters = kmeans.fit_predict(X_scaled)  \n",
    "df['Cluster'] = clusters\n",
    "\n",
    "cluster_stats = df.groupby('Cluster')[['Annual Income (k$)', 'Spending Score (1-100)']].mean()\n",
    "\n",
    "highest_avg_income_cluster = cluster_stats['Annual Income (k$)'].idxmax()\n",
    "highest_avg_spending_score_cluster = cluster_stats['Spending Score (1-100)'].idxmax()\n",
    "\n",
    "print(f\"The cluster with the highest average income is Cluster {highest_avg_income_cluster}.\")\n",
    "print(f\"The cluster with the highest average spending score is Cluster {highest_avg_spending_score_cluster}.\")\n"
   ]
  },
  {
   "cell_type": "code",
   "execution_count": 11,
   "metadata": {},
   "outputs": [
    {
     "name": "stdout",
     "output_type": "stream",
     "text": [
      "The percentage of customers in Cluster 1 is 17.73%.\n"
     ]
    }
   ],
   "source": [
    "cluster_1_count = (df['Cluster'] == 1).sum()\n",
    "\n",
    "total_customers = len(df)\n",
    "\n",
    "percentage_cluster_1 = (cluster_1_count / total_customers) * 100\n",
    "\n",
    "print(f\"The percentage of customers in Cluster 1 is {percentage_cluster_1:.2f}%.\")\n"
   ]
  },
  {
   "cell_type": "code",
   "execution_count": 12,
   "metadata": {},
   "outputs": [
    {
     "name": "stdout",
     "output_type": "stream",
     "text": [
      "The most frequent age group in Cluster 2 is 35.0.\n"
     ]
    }
   ],
   "source": [
    "cluster_2_data = df[df['Cluster'] == 2]\n",
    "\n",
    "most_frequent_age_group = cluster_2_data['Age'].mode()[0]\n",
    "\n",
    "print(f\"The most frequent age group in Cluster 2 is {most_frequent_age_group}.\")\n"
   ]
  },
  {
   "cell_type": "code",
   "execution_count": 13,
   "metadata": {},
   "outputs": [
    {
     "name": "stdout",
     "output_type": "stream",
     "text": [
      "The average income of customers in Cluster 3 is $87.80k.\n"
     ]
    }
   ],
   "source": [
    "cluster_3_data = df[df['Cluster'] == 3]\n",
    "\n",
    "average_income_cluster_3 = cluster_3_data['Annual Income (k$)'].mean()\n",
    "\n",
    "print(f\"The average income of customers in Cluster 3 is ${average_income_cluster_3:.2f}k.\")\n"
   ]
  },
  {
   "cell_type": "code",
   "execution_count": 14,
   "metadata": {},
   "outputs": [
    {
     "name": "stdout",
     "output_type": "stream",
     "text": [
      "Count of values in each cluster:\n",
      "Cluster\n",
      "0    82\n",
      "3    40\n",
      "1    36\n",
      "2    23\n",
      "4    22\n",
      "Name: count, dtype: int64\n"
     ]
    }
   ],
   "source": [
    "cluster_counts = df['Cluster'].value_counts()\n",
    "\n",
    "print(\"Count of values in each cluster:\")\n",
    "print(cluster_counts)\n"
   ]
  },
  {
   "cell_type": "code",
   "execution_count": 15,
   "metadata": {},
   "outputs": [
    {
     "name": "stdout",
     "output_type": "stream",
     "text": [
      "Customers in Cluster 2:\n",
      "    CustomerID  Gender   Age  Annual Income (k$)  Spending Score (1-100)  \\\n",
      "0            1    Male  19.0                15.0                      39   \n",
      "2            3  Female  20.0                16.0                       6   \n",
      "4            5  Female  31.0                17.0                      40   \n",
      "6            7  Female  35.0                18.0                       6   \n",
      "8            9    Male  64.0                19.0                       3   \n",
      "10          11    Male  67.0                19.0                      14   \n",
      "12          13  Female  58.0                20.0                      15   \n",
      "14          15    Male  37.0                20.0                      13   \n",
      "16          17  Female  35.0                21.0                      35   \n",
      "18          19    Male  52.0                23.0                      29   \n",
      "20          21    Male  35.0                24.0                      35   \n",
      "22          23  Female  46.0                25.0                       5   \n",
      "24          25  Female  54.0                28.0                      14   \n",
      "26          27  Female  45.0                28.0                      32   \n",
      "28          29  Female  40.0                29.0                      31   \n",
      "30          31    Male  60.0                30.0                       4   \n",
      "32          33    Male  53.0                33.0                       4   \n",
      "34          35  Female  49.0                33.0                      14   \n",
      "36          37  Female  42.0                34.0                      17   \n",
      "38          39  Female  36.0                37.0                      26   \n",
      "40          41  Female  65.0                38.0                      35   \n",
      "42          43    Male  48.0                39.0                      36   \n",
      "44          45  Female  49.0                39.0                      28   \n",
      "\n",
      "    Cluster  \n",
      "0         2  \n",
      "2         2  \n",
      "4         2  \n",
      "6         2  \n",
      "8         2  \n",
      "10        2  \n",
      "12        2  \n",
      "14        2  \n",
      "16        2  \n",
      "18        2  \n",
      "20        2  \n",
      "22        2  \n",
      "24        2  \n",
      "26        2  \n",
      "28        2  \n",
      "30        2  \n",
      "32        2  \n",
      "34        2  \n",
      "36        2  \n",
      "38        2  \n",
      "40        2  \n",
      "42        2  \n",
      "44        2  \n",
      "\n",
      "Customers in Cluster 4:\n",
      "    CustomerID  Gender   Age  Annual Income (k$)  Spending Score (1-100)  \\\n",
      "1            2    Male  21.0                15.0                      81   \n",
      "3            4  Female  23.0                16.0                      77   \n",
      "5            6  Female  22.0                17.0                      76   \n",
      "7            8  Female  23.0                18.0                      94   \n",
      "9           10  Female  30.0                19.0                      72   \n",
      "11          12  Female  35.0                19.0                      99   \n",
      "13          14  Female  24.0                20.0                      77   \n",
      "15          16    Male  22.0                20.0                      79   \n",
      "17          18    Male  20.0                21.0                      66   \n",
      "19          20  Female  35.0                23.0                      98   \n",
      "21          22    Male  25.0                24.0                      73   \n",
      "23          24    Male  31.0                25.0                      73   \n",
      "25          26    Male  29.0                28.0                      82   \n",
      "27          28    Male  35.0                28.0                      61   \n",
      "29          30  Female  23.0                29.0                      87   \n",
      "31          32  Female  21.0                30.0                      73   \n",
      "33          34    Male  18.0                33.0                      92   \n",
      "35          36  Female  21.0                33.0                      81   \n",
      "37          38  Female  30.0                34.0                      73   \n",
      "39          40  Female  20.0                37.0                      75   \n",
      "41          42    Male  24.0                38.0                      92   \n",
      "45          46  Female  24.0                39.0                      65   \n",
      "\n",
      "    Cluster  \n",
      "1         4  \n",
      "3         4  \n",
      "5         4  \n",
      "7         4  \n",
      "9         4  \n",
      "11        4  \n",
      "13        4  \n",
      "15        4  \n",
      "17        4  \n",
      "19        4  \n",
      "21        4  \n",
      "23        4  \n",
      "25        4  \n",
      "27        4  \n",
      "29        4  \n",
      "31        4  \n",
      "33        4  \n",
      "35        4  \n",
      "37        4  \n",
      "39        4  \n",
      "41        4  \n",
      "45        4  \n",
      "\n",
      "Customers in Cluster 0:\n",
      "     CustomerID  Gender   Age  Annual Income (k$)  Spending Score (1-100)  \\\n",
      "43           44  Female  31.0           39.000000                      61   \n",
      "46           47  Female  50.0           40.000000                      55   \n",
      "47           48  Female  27.0           40.000000                      47   \n",
      "48           49  Female  29.0           40.000000                      42   \n",
      "49           50  Female  31.0           40.000000                      42   \n",
      "..          ...     ...   ...                 ...                     ...   \n",
      "122         123  Female  40.0           69.000000                      58   \n",
      "126         127    Male  43.0           71.000000                      35   \n",
      "132         133  Female  25.0           72.000000                      34   \n",
      "142         143  Female  28.0           76.000000                      40   \n",
      "200         201  Female  27.0           61.316832                      28   \n",
      "\n",
      "     Cluster  \n",
      "43         0  \n",
      "46         0  \n",
      "47         0  \n",
      "48         0  \n",
      "49         0  \n",
      "..       ...  \n",
      "122        0  \n",
      "126        0  \n",
      "132        0  \n",
      "142        0  \n",
      "200        0  \n",
      "\n",
      "[82 rows x 6 columns]\n",
      "\n",
      "Customers in Cluster 3:\n",
      "     CustomerID  Gender   Age  Annual Income (k$)  Spending Score (1-100)  \\\n",
      "123         124    Male  39.0                69.0                      91   \n",
      "125         126  Female  31.0                70.0                      77   \n",
      "127         128    Male  40.0                71.0                      95   \n",
      "129         130    Male  38.0                71.0                      75   \n",
      "131         132    Male  39.0                71.0                      75   \n",
      "133         134  Female  31.0                72.0                      71   \n",
      "135         136  Female  29.0                73.0                      88   \n",
      "137         138    Male  32.0                73.0                      73   \n",
      "139         140  Female  35.0                74.0                      72   \n",
      "141         142    Male  32.0                75.0                      93   \n",
      "143         144  Female  32.0                76.0                      87   \n",
      "145         146    Male  28.0                77.0                      97   \n",
      "147         148  Female  32.0                77.0                      74   \n",
      "149         150    Male  34.0                78.0                      90   \n",
      "151         152    Male  39.0                78.0                      88   \n",
      "153         154  Female  38.0                78.0                      76   \n",
      "155         156  Female  27.0                78.0                      89   \n",
      "157         158  Female  30.0                78.0                      78   \n",
      "159         160  Female  30.0                78.0                      73   \n",
      "161         162  Female  29.0                79.0                      83   \n",
      "163         164  Female  31.0                81.0                      93   \n",
      "165         166  Female  36.0                85.0                      75   \n",
      "167         168  Female  33.0                86.0                      95   \n",
      "169         170    Male  32.0                87.0                      63   \n",
      "171         172    Male  28.0                87.0                      75   \n",
      "173         174    Male  36.0                87.0                      92   \n",
      "175         176  Female  30.0                88.0                      86   \n",
      "177         178    Male  27.0                88.0                      69   \n",
      "179         180    Male  35.0                93.0                      90   \n",
      "181         182  Female  32.0                97.0                      86   \n",
      "183         184  Female  29.0                98.0                      88   \n",
      "185         186    Male  30.0                99.0                      97   \n",
      "187         188    Male  28.0               101.0                      68   \n",
      "189         190  Female  36.0               103.0                      85   \n",
      "191         192  Female  32.0               103.0                      69   \n",
      "193         194  Female  38.0               113.0                      91   \n",
      "195         196  Female  35.0               120.0                      79   \n",
      "197         198    Male  32.0               126.0                      74   \n",
      "199         200    Male  30.0               137.0                      83   \n",
      "202         203  Female  30.0               137.0                      83   \n",
      "\n",
      "     Cluster  \n",
      "123        3  \n",
      "125        3  \n",
      "127        3  \n",
      "129        3  \n",
      "131        3  \n",
      "133        3  \n",
      "135        3  \n",
      "137        3  \n",
      "139        3  \n",
      "141        3  \n",
      "143        3  \n",
      "145        3  \n",
      "147        3  \n",
      "149        3  \n",
      "151        3  \n",
      "153        3  \n",
      "155        3  \n",
      "157        3  \n",
      "159        3  \n",
      "161        3  \n",
      "163        3  \n",
      "165        3  \n",
      "167        3  \n",
      "169        3  \n",
      "171        3  \n",
      "173        3  \n",
      "175        3  \n",
      "177        3  \n",
      "179        3  \n",
      "181        3  \n",
      "183        3  \n",
      "185        3  \n",
      "187        3  \n",
      "189        3  \n",
      "191        3  \n",
      "193        3  \n",
      "195        3  \n",
      "197        3  \n",
      "199        3  \n",
      "202        3  \n",
      "\n",
      "Customers in Cluster 1:\n",
      "     CustomerID  Gender        Age  Annual Income (k$)  \\\n",
      "124         125  Female  23.000000                70.0   \n",
      "128         129    Male  59.000000                71.0   \n",
      "130         131    Male  47.000000                71.0   \n",
      "134         135    Male  20.000000                73.0   \n",
      "136         137  Female  44.000000                73.0   \n",
      "138         139    Male  19.000000                74.0   \n",
      "140         141  Female  57.000000                75.0   \n",
      "144         145    Male  25.000000                77.0   \n",
      "146         147    Male  48.000000                77.0   \n",
      "148         149  Female  34.000000                78.0   \n",
      "150         151    Male  43.000000                78.0   \n",
      "152         153  Female  44.000000                78.0   \n",
      "154         155  Female  47.000000                78.0   \n",
      "156         157    Male  37.000000                78.0   \n",
      "158         159    Male  34.000000                78.0   \n",
      "160         161  Female  56.000000                79.0   \n",
      "162         163    Male  19.000000                81.0   \n",
      "164         165    Male  50.000000                85.0   \n",
      "166         167    Male  42.000000                86.0   \n",
      "168         169  Female  36.000000                87.0   \n",
      "170         171    Male  40.000000                87.0   \n",
      "172         173    Male  36.000000                87.0   \n",
      "174         175  Female  52.000000                88.0   \n",
      "176         177    Male  58.000000                88.0   \n",
      "178         179    Male  59.000000                93.0   \n",
      "180         181  Female  37.000000                97.0   \n",
      "182         183    Male  46.000000                98.0   \n",
      "184         185  Female  41.000000                99.0   \n",
      "186         187  Female  54.000000               101.0   \n",
      "188         189  Female  41.000000               103.0   \n",
      "190         191  Female  34.000000               103.0   \n",
      "192         193    Male  33.000000               113.0   \n",
      "194         195  Female  47.000000               120.0   \n",
      "196         197  Female  45.000000               126.0   \n",
      "198         199    Male  32.000000               137.0   \n",
      "201         202    Male  38.747525               137.0   \n",
      "\n",
      "     Spending Score (1-100)  Cluster  \n",
      "124                      29        1  \n",
      "128                      11        1  \n",
      "130                       9        1  \n",
      "134                       5        1  \n",
      "136                       7        1  \n",
      "138                      10        1  \n",
      "140                       5        1  \n",
      "144                      12        1  \n",
      "146                      36        1  \n",
      "148                      22        1  \n",
      "150                      17        1  \n",
      "152                      20        1  \n",
      "154                      16        1  \n",
      "156                       1        1  \n",
      "158                       1        1  \n",
      "160                      35        1  \n",
      "162                       5        1  \n",
      "164                      26        1  \n",
      "166                      20        1  \n",
      "168                      27        1  \n",
      "170                      13        1  \n",
      "172                      10        1  \n",
      "174                      13        1  \n",
      "176                      15        1  \n",
      "178                      14        1  \n",
      "180                      32        1  \n",
      "182                      15        1  \n",
      "184                      39        1  \n",
      "186                      24        1  \n",
      "188                      17        1  \n",
      "190                      23        1  \n",
      "192                       8        1  \n",
      "194                      16        1  \n",
      "196                      28        1  \n",
      "198                      18        1  \n",
      "201                      19        1  \n",
      "\n"
     ]
    }
   ],
   "source": [
    "for cluster_label in df['Cluster'].unique():\n",
    "    print(f\"Customers in Cluster {cluster_label}:\")\n",
    "    cluster_customers = df[df['Cluster'] == cluster_label]\n",
    "    print(cluster_customers)\n",
    "    print()\n"
   ]
  },
  {
   "cell_type": "code",
   "execution_count": 16,
   "metadata": {},
   "outputs": [
    {
     "data": {
      "image/png": "[encoded data removed]",
      "text/plain": [
       "<Figure size 1000x600 with 1 Axes>"
      ]
     },
     "metadata": {},
     "output_type": "display_data"
    }
   ],
   "source": [
    "plt.figure(figsize=(10, 6))\n",
    "\n",
    "colors = ['red', 'blue', 'green', 'orange', 'purple'] \n",
    "for cluster_label, color in zip(df['Cluster'].unique(), colors):\n",
    "    cluster_data = df[df['Cluster'] == cluster_label]\n",
    "    plt.scatter(cluster_data['Annual Income (k$)'], cluster_data['Spending Score (1-100)'],\n",
    "                color=color, label=f'Cluster {cluster_label}')\n",
    "\n",
    "plt.title('Customer Segmentation')\n",
    "plt.xlabel('Annual Income (k$)')\n",
    "plt.ylabel('Spending Score (1-100)')\n",
    "plt.legend()\n",
    "plt.grid(True)\n",
    "plt.show()\n"
   ]
  },
  {
   "cell_type": "code",
   "execution_count": null,
   "metadata": {},
   "outputs": [],
   "source": []
  }
 ],
 "metadata": {
  "kernelspec": {
   "display_name": "Python 3",
   "language": "python",
   "name": "python3"
  },
  "language_info": {
   "codemirror_mode": {
    "name": "ipython",
    "version": 3
   },
   "file_extension": ".py",
   "mimetype": "text/x-python",
   "name": "python",
   "nbconvert_exporter": "python",
   "pygments_lexer": "ipython3",
   "version": "3.11.4"
  }
 },
 "nbformat": 4,
 "nbformat_minor": 2
}
